{
 "cells": [
  {
   "cell_type": "markdown",
   "metadata": {},
   "source": [
    "## Steps \n",
    "- Import cost & energy library \n",
    "- calculate energy and Li content for standard cells (NMC622, NMC811, LFP, SSB) \n",
    "- take assumption for 2030 distribution\n",
    "- calculate extrem in case only one chemistry exists "
   ]
  },
  {
   "cell_type": "code",
   "execution_count": 1,
   "metadata": {},
   "outputs": [],
   "source": [
    "import math\n",
    "import sys\n",
    "sys.path.insert(0, '/home/matthias/Documents/GitHub/Cell_model_energy_costs')\n",
    "import cell_model as Cellmodel\n",
    "import numpy as np\n",
    "import pandas as pd"
   ]
  },
  {
   "cell_type": "markdown",
   "metadata": {},
   "source": [
    "## Define materials "
   ]
  },
  {
   "cell_type": "code",
   "execution_count": 2,
   "metadata": {},
   "outputs": [],
   "source": [
    "# Active materials\n",
    "NMC811_cathode = Cellmodel.Activematerial_cathode(\"NMC811\" , \n",
    "                                                  195, # specificy capacity \n",
    "                                                  3.86 # average E vs Li\n",
    "                                                 )\n",
    "NMC622_cathode = Cellmodel.Activematerial_cathode(\"NMC622\" , 181, 3.86)\n",
    "LFP_cathode = Cellmodel.Activematerial_cathode(\"LFP\", 160, 3.3)\n",
    "Gr = Cellmodel.Activematerial_anode(\"Gr\", 344 , 0.17)\n",
    "LiM = Cellmodel.Activematerial_anode(\"LiMetall\", 3862, 0.0)"
   ]
  },
  {
   "cell_type": "markdown",
   "metadata": {},
   "source": [
    "## Current Collectors, Eleytrolytes and Separators"
   ]
  },
  {
   "cell_type": "code",
   "execution_count": 3,
   "metadata": {},
   "outputs": [],
   "source": [
    "### Others\n",
    "## Currentcollectors \n",
    "Al = Cellmodel.CurrentCollector_cathode(\"Al\", 14e-4 , 2.76)\n",
    "Cu = Cellmodel.CurrentCollector_anode(\"Cu\", 8e-4 , 8.96)\n",
    "\n",
    "\n",
    "## Electrolyte \n",
    "LP40_standard = Cellmodel.Electrolyte_liquid(\"LiPF6\" , \n",
    "                                             \"EC:DMC\", \n",
    "                                             1.1, # molar concentration mol/L \n",
    "                                             151.9 # molarmass salt \n",
    "                                            )\n",
    "\n",
    "LLZO_elyte = Cellmodel.Electrolyte_solid(\"LLZO\",\n",
    "                                         838.5, # molarmass electrolyte\n",
    "                                         6.94, # molarmass\n",
    "                                         7, # index Li in LLZO\n",
    "                                         0.10, # fraction of SE in pos electrode\n",
    "                                         5.1 # density in g cm-3\n",
    "                                        )\n",
    "\n",
    "Elyte_liquid = Cellmodel.Electrolyte_liquid(\"\",\"\",0,0) # need to define as a empty container for the function ...\n",
    "                                                        # to work \n",
    "# Separator\n",
    "Separator_standard = Cellmodel.Separator(\"PP+Al\" , \n",
    "                                         12e-4 , \n",
    "                                         0.44 , \n",
    "                                         1.18\n",
    "                                        )\n",
    "Separator_LLZO = Cellmodel.Separator(\"LLZO\", \n",
    "                                     40e-4, # thickness\n",
    "                                     0.7, # porosity\n",
    "                                     5.1 # density g cm-3\n",
    "                                    ) "
   ]
  },
  {
   "cell_type": "markdown",
   "metadata": {},
   "source": [
    "## Electrodes"
   ]
  },
  {
   "cell_type": "markdown",
   "metadata": {},
   "source": [
    "Calculating areal capacity based on expected LiM electrode thickness.Here we assume a thickness of 20 micrometer for a commercial cell. I would assume that the aim is to be anode-free, but let's go with that for now. "
   ]
  },
  {
   "cell_type": "code",
   "execution_count": 4,
   "metadata": {},
   "outputs": [
    {
     "data": {
      "text/plain": [
       "4.1246160000000005"
      ]
     },
     "execution_count": 4,
     "metadata": {},
     "output_type": "execute_result"
    }
   ],
   "source": [
    "density_Li = 0.534 # g cm-3\n",
    "thickness_Li_elec = 20e-4 # 20 micrometer\n",
    "areal_capa_LiM = LiM.spec_cap * density_Li * thickness_Li_elec # in mAh cm-2\n",
    "areal_capa_LiM"
   ]
  },
  {
   "cell_type": "code",
   "execution_count": 5,
   "metadata": {},
   "outputs": [],
   "source": [
    "# Electrods \n",
    "positive_NMC811 = Cellmodel.Electrodecomposition_cathode_opt1(NMC811_cathode.name , \n",
    "                                                              3.3 , # areal capacity \n",
    "                                                              0.95 , # active fraction \n",
    "                                                              3.4, # density electrode\n",
    "                                                              NMC811_cathode\n",
    "                                                             ) # NMC = 3.4 / LFP = 2.5\n",
    "positive_NMC811_ASSB = Cellmodel.Electrodecomposition_cathode_opt1(NMC811_cathode.name , \n",
    "                                                              3.3 , \n",
    "                                                              (positive_NMC811.active_frac - \n",
    "                                                               LLZO_elyte.pos_electrode_fraction), \n",
    "                                                              3.4, \n",
    "                                                              NMC811_cathode\n",
    "                                                             ) # NMC = 3.4 / LFP = 2.5\n",
    "\n",
    "positive_NMC622 = Cellmodel.Electrodecomposition_cathode_opt1(NMC622_cathode.name , \n",
    "                                                              3.1 , \n",
    "                                                              0.95 , \n",
    "                                                              3.4, \n",
    "                                                              NMC622_cathode\n",
    "                                                             ) # NMC = 3.4 / LFP = 2.5\n",
    "\n",
    "positive_NMC622_ASSB = Cellmodel.Electrodecomposition_cathode_opt1(NMC622_cathode.name , \n",
    "                                                              3.1 , \n",
    "                                                              (positive_NMC622.active_frac - \n",
    "                                                               LLZO_elyte.pos_electrode_fraction), \n",
    "                                                              3.4, \n",
    "                                                              NMC622_cathode\n",
    "                                                             ) # NMC = 3.4 / LFP = 2.5\n",
    "\n",
    "positive_LFP = Cellmodel.Electrodecomposition_cathode_opt1(LFP_cathode.name , \n",
    "                                                           2.5 , \n",
    "                                                           0.95 ,\n",
    "                                                           2.5, \n",
    "                                                           LFP_cathode\n",
    "                                                          ) # NMC = 3.4 / LFP = 2.5\n",
    "\n",
    "positive_LFP_ASSB = Cellmodel.Electrodecomposition_cathode_opt1(LFP_cathode.name , \n",
    "                                                              2.5 , \n",
    "                                                              (positive_LFP.active_frac - \n",
    "                                                               LLZO_elyte.pos_electrode_fraction), \n",
    "                                                              3.4, \n",
    "                                                              LFP_cathode\n",
    "                                                             ) # NMC = 3.4 / LFP = 2.5\n",
    "\n",
    "negative_Gr = Cellmodel.Electrodecomposition_anode_opt1(Gr.name , \n",
    "                                                        3.3*1.1 , \n",
    "                                                        0.965 , \n",
    "                                                        1.6, \n",
    "                                                        Gr\n",
    "                                                       )\n",
    "\n",
    "negative_LiM = Cellmodel.Electrodecomposition_anode_opt1(LiM.name , \n",
    "                                                         areal_capa_LiM , \n",
    "                                                         1.00 , \n",
    "                                                         0.543, \n",
    "                                                         LiM\n",
    "                                                        ) "
   ]
  },
  {
   "cell_type": "markdown",
   "metadata": {},
   "source": [
    "## Combining all into cells"
   ]
  },
  {
   "cell_type": "code",
   "execution_count": 6,
   "metadata": {},
   "outputs": [],
   "source": [
    "### Total cells\n",
    "# Graphite Anode\n",
    "NMC811Gr_cell = Cellmodel.Pouch(\"NMC811-Gr_P\", \n",
    "                                positive_NMC811, \n",
    "                                negative_Gr, \n",
    "                                Separator_standard , \n",
    "                                LP40_standard, \n",
    "                                1.7, #  electrolyte capacity ratio  ml/Ah \n",
    "                                30, \n",
    "                                10, \n",
    "                                35 , # layers\n",
    "                                113e-4, # pouch thickness\n",
    "                                1.8 , # pouch density \n",
    "                                1.0, # pouchclearance\n",
    "                                2 , # terminal height \n",
    "                                5 , # terminal width \n",
    "                                15e-4, # therminal thickness\n",
    "                                2.76 , # terminal density pos  \n",
    "                                8.96, # terminal density neg \n",
    "                                10, # extra mass \n",
    "                                0.93, # \n",
    "                                NMC811_cathode,\n",
    "                                Gr\n",
    "                                )\n",
    "\n",
    "NMC622Gr_cell = Cellmodel.Pouch(\"NMC622-Gr_P\", \n",
    "                                    positive_NMC622, \n",
    "                                    negative_Gr, \n",
    "                                    Separator_standard , \n",
    "                                    LP40_standard, \n",
    "                                    1.7, #  electrolyte capacity ratio  ml/Ah \n",
    "                                    30, \n",
    "                                    10, \n",
    "                                    35 , # layers\n",
    "                                    113e-4, # pouch thickness\n",
    "                                    1.8 , # pouch density \n",
    "                                    1.0, # pouchclearance\n",
    "                                    2 , # terminal height \n",
    "                                    5 , # terminal width \n",
    "                                    15e-4, # therminal thickness\n",
    "                                    2.76 , # terminal density pos  \n",
    "                                    8.96, # terminal density neg \n",
    "                                    10, # extra mass \n",
    "                                    0.93, # \n",
    "                                    NMC622_cathode, # activmaterial cathode\n",
    "                                    Gr # active material anode\n",
    "                                     )\n",
    "\n",
    "LFPGr_cell = Cellmodel.Pouch(\"LFP-Gr_P\", \n",
    "                                    positive_LFP, \n",
    "                                    negative_Gr, \n",
    "                                    Separator_standard , \n",
    "                                    LP40_standard, \n",
    "                                    1.7, #  electrolyte capacity ratio  ml/Ah \n",
    "                                    30, \n",
    "                                    10, \n",
    "                                    35 , # layers\n",
    "                                    113e-4, # pouch thickness\n",
    "                                    1.8 , # pouch density \n",
    "                                    1.0, # pouchclearance\n",
    "                                    2 , # terminal height \n",
    "                                    5 , # terminal width \n",
    "                                    15e-4, # therminal thickness\n",
    "                                    2.76 , # terminal density pos  \n",
    "                                    8.96, # terminal density neg \n",
    "                                    10, # extra mass \n",
    "                                    0.93, # \n",
    "                                    LFP_cathode,\n",
    "                                    Gr\n",
    "                                  )\n",
    "\n",
    "# Li metall Anode\n",
    "NMC811LiM_cell = Cellmodel.Pouch(\"NMC811-LiM_P\", \n",
    "                                    positive_NMC811_ASSB, \n",
    "                                    negative_LiM, \n",
    "                                    Separator_LLZO , \n",
    "                                    LLZO_elyte, \n",
    "                                    0, #  electrolyte capacity ratio  ml/Ah \n",
    "                                    30, \n",
    "                                    10, \n",
    "                                    35 , # layers\n",
    "                                    113e-4, # pouch thickness\n",
    "                                    1.8 , # pouch density \n",
    "                                    1.0, # pouchclearance\n",
    "                                    2 , # terminal height \n",
    "                                    5 , # terminal width \n",
    "                                    15e-4, # therminal thickness\n",
    "                                    2.76 , # terminal density pos  \n",
    "                                    8.96, # terminal density neg \n",
    "                                    10, # extra mass \n",
    "                                    0.93, # \n",
    "                                    NMC811_cathode,\n",
    "                                    LiM\n",
    "                                      )\n",
    "\n",
    "NMC622LiM_cell = Cellmodel.Pouch(\"NMC622-LiM_P\", \n",
    "                                        positive_NMC622_ASSB, \n",
    "                                        negative_LiM, \n",
    "                                        Separator_LLZO , \n",
    "                                        LLZO_elyte,\n",
    "                                        0, #  electrolyte capacity ratio  ml/Ah \n",
    "                                        30, \n",
    "                                        10, \n",
    "                                        35 , # layers\n",
    "                                        113e-4, # pouch thickness\n",
    "                                        1.8 , # pouch density \n",
    "                                        1.0, # pouchclearance\n",
    "                                        2 , # terminal height \n",
    "                                        5 , # terminal width \n",
    "                                        15e-4, # therminal thickness\n",
    "                                        2.76 , # terminal density pos  \n",
    "                                        8.96, # terminal density neg \n",
    "                                        10, # extra mass \n",
    "                                        0.93, # \n",
    "                                        NMC622_cathode,\n",
    "                                        LiM\n",
    "                                      )\n",
    "\n",
    "LFPLiM_cell = Cellmodel.Pouch(\"LFP-LiM_P\", \n",
    "                                        positive_LFP_ASSB, \n",
    "                                        negative_LiM, \n",
    "                                        Separator_LLZO , \n",
    "                                        LLZO_elyte, \n",
    "                                        0, #  electrolyte capacity ratio  ml/Ah \n",
    "                                        30, \n",
    "                                        10, \n",
    "                                        35 , # layers\n",
    "                                        113e-4, # pouch thickness\n",
    "                                        1.8 , # pouch density \n",
    "                                        1.0, # pouchclearance\n",
    "                                        2 , # terminal height \n",
    "                                        5 , # terminal width \n",
    "                                        15e-4, # therminal thickness\n",
    "                                        2.76 , # terminal density pos  \n",
    "                                        8.96, # terminal density neg \n",
    "                                        10, # extra mass \n",
    "                                        0.93, # \n",
    "                                        LFP_cathode,\n",
    "                                        LiM\n",
    "                                   )"
   ]
  },
  {
   "cell_type": "markdown",
   "metadata": {},
   "source": [
    "I reduced the areal capacity of the NMC622 cells to 3.1 mAh cm-2 compared to the 3.3 from the NMC811 cathode to reach at the end a very similar thickness compared to the NMC811 cells, otherwise the cathodes would get rather thick. "
   ]
  },
  {
   "cell_type": "code",
   "execution_count": 7,
   "metadata": {},
   "outputs": [],
   "source": [
    "all_cells = [NMC811Gr_cell,\n",
    "                NMC622Gr_cell, \n",
    "                LFPGr_cell,\n",
    "                NMC811LiM_cell,\n",
    "                NMC622LiM_cell,\n",
    "                LFPLiM_cell]"
   ]
  },
  {
   "cell_type": "code",
   "execution_count": 8,
   "metadata": {},
   "outputs": [],
   "source": [
    "all_cells_details = []\n",
    "idx = 0\n",
    "df_all = []\n",
    "\n",
    "for idx in range(0,len(all_cells)):    \n",
    "    one = [all_cells[idx].name_pouch, \n",
    "           all_cells[idx].energy, \n",
    "           all_cells[idx].capacity,\n",
    "           all_cells[idx].positive.thickness_el_c,\n",
    "           all_cells[idx].negative.thickness_el_a\n",
    "          ]\n",
    "    all_cells_details.append(one)\n",
    "    # print(one)\n",
    "    \n",
    "df_all = pd.DataFrame(data = all_cells_details)\n",
    "df_all.set_axis(['Name', 'Energy', 'Capacity', 'ThicknessCathode', 'ThicknessAnode'], axis=1, inplace = True)"
   ]
  },
  {
   "cell_type": "markdown",
   "metadata": {},
   "source": [
    "\n",
    "\n",
    "## Get the Masses"
   ]
  },
  {
   "cell_type": "code",
   "execution_count": 9,
   "metadata": {},
   "outputs": [],
   "source": [
    "positives_liq = [positive_NMC811, positive_NMC622, positive_LFP]\n",
    "\n",
    "positives_assb = [positive_NMC811_ASSB, positive_NMC622_ASSB, positive_LFP_ASSB]\n",
    "\n",
    "negatives = [negative_Gr, negative_LiM]\n",
    "\n",
    "cathodes = [NMC811_cathode, NMC622_cathode, LFP_cathode]\n",
    "\n",
    "cells = [NMC811Gr_cell, NMC622Gr_cell, LFPGr_cell, NMC811LiM_cell, NMC622LiM_cell, LFPLiM_cell]\n",
    "\n",
    "cells_assb = [NMC811LiM_cell, NMC622LiM_cell, LFPLiM_cell]"
   ]
  },
  {
   "cell_type": "code",
   "execution_count": 10,
   "metadata": {},
   "outputs": [],
   "source": [
    "## Masses\n",
    "cellmass_NMC811Gr, pouch_mass_NMC811Gr = Cellmodel.getMass_Pouch_total(positive_NMC811, negative_Gr, Al, Cu, Separator_standard, NMC811Gr_cell, LP40_standard)\n",
    "cellmass_NMC622Gr, pouch_mass_NMC622Gr = Cellmodel.getMass_Pouch_total(positive_NMC622, negative_Gr, Al, Cu, Separator_standard, NMC622Gr_cell, LP40_standard)\n",
    "cellmass_LFPGr, pouch_mass_LFPGr = Cellmodel.getMass_Pouch_total(positive_LFP, negative_Gr, Al, Cu, Separator_standard, LFPGr_cell, LP40_standard)\n",
    "#\n",
    "cellmass_NMC811LiM, pouch_mass_NMC811LiM = Cellmodel.getMass_Pouch_total(positive_NMC811_ASSB, \n",
    "                                                  negative_LiM, \n",
    "                                                  Al, \n",
    "                                                  Cu, \n",
    "                                                  Separator_LLZO, \n",
    "                                                  NMC811LiM_cell, \n",
    "                                                  LLZO_elyte)\n",
    "\n",
    "cellmass_NMC622LiM, pouch_mass_NMC622Gr = Cellmodel.getMass_Pouch_total(positive_NMC622_ASSB, \n",
    "                                                                        negative_LiM, \n",
    "                                                                        Al, \n",
    "                                                                        Cu, \n",
    "                                                                        Separator_LLZO, \n",
    "                                                                        NMC622LiM_cell, \n",
    "                                                                        LLZO_elyte)\n",
    "cellmass_LFPLiM, pouch_mass_LFPGr = Cellmodel.getMass_Pouch_total(positive_LFP_ASSB, \n",
    "                                                                  negative_LiM, \n",
    "                                                                  Al, \n",
    "                                                                  Cu, \n",
    "                                                                  Separator_LLZO, \n",
    "                                                                  LFPLiM_cell, \n",
    "                                                                  LLZO_elyte)\n",
    "\n",
    "\n",
    "## Cathode Masses\n",
    "# Cylindrical\n",
    "cathode_mass_NMC811 = Cellmodel.getMass_cathode(positive_NMC811) * NMC811Gr_cell.jr_area * 2\n",
    "cathode_mass_NMC622 = Cellmodel.getMass_cathode(positive_NMC622) * NMC622Gr_cell.jr_area * 2\n",
    "cathode_mass_LFP = Cellmodel.getMass_cathode(positive_LFP) * LFPGr_cell.jr_area * 2\n",
    "#\n",
    "cathode_mass_NMC811_ASSB = Cellmodel.getMass_cathode(positive_NMC811_ASSB) * NMC811LiM_cell.jr_area * 2\n",
    "cathode_mass_NMC622_ASSB = Cellmodel.getMass_cathode(positive_NMC622_ASSB) * NMC622LiM_cell.jr_area * 2\n",
    "cathode_mass_LFP_ASSB = Cellmodel.getMass_cathode(positive_LFP_ASSB) * LFPLiM_cell.jr_area * 2\n",
    "\n",
    "\n",
    "## Seperator and Elyte\n",
    "Separator_mass = Cellmodel.getMass_separator(Separator_standard)\n",
    "\n",
    "# ASSB\n",
    "Separator_mass_LLZO = Cellmodel.getMass_separator(Separator_LLZO)\n",
    "Li_abs_elyte_NMC811 = Cellmodel.getMass_elements_elyte_solid(LLZO_elyte, positive_NMC811_ASSB)\n",
    "Li_abs_elyte_NMC622 = Cellmodel.getMass_elements_elyte_solid(LLZO_elyte, positive_NMC622_ASSB)\n",
    "Li_abs_elyte_LFP = Cellmodel.getMass_elements_elyte_solid(LLZO_elyte, positive_LFP_ASSB)\n",
    "\n",
    "Li_abs_sep_NMC811 = Cellmodel.getMass_elements_pouch_separator_solid(LLZO_elyte, \n",
    "                                                                     Separator_LLZO, \n",
    "                                                                     NMC811LiM_cell)\n",
    "Li_abs_sep_NMC622 = Cellmodel.getMass_elements_pouch_separator_solid(LLZO_elyte, \n",
    "                                                                     Separator_LLZO, \n",
    "                                                                     NMC622LiM_cell)\n",
    "Li_abs_sep_LFP = Cellmodel.getMass_elements_pouch_separator_solid(LLZO_elyte, \n",
    "                                                                     Separator_LLZO, \n",
    "                                                                     LFPLiM_cell)\n",
    "\n",
    "Li_abs_sep = [Li_abs_sep_NMC811, Li_abs_sep_NMC622, Li_abs_sep_LFP]\n",
    "\n",
    "pos_elec_materials = np.zeros((3,5))\n",
    "neg_elec_materials = np.zeros((3,2))\n",
    "pos_elec_materials_assb = np.zeros((3,5))\n",
    "neg_elec_materials_assb = np.zeros((3,1))\n",
    "Elyte_Li_mass = np.zeros((3,1)) \n",
    "Elyte_Li_mass_assb = np.zeros((3,1))\n",
    "Sep_Li_mass = np.zeros((3,1))\n",
    "Sep_Li_mass_assb = np.zeros((3,1))"
   ]
  },
  {
   "cell_type": "code",
   "execution_count": 11,
   "metadata": {},
   "outputs": [],
   "source": [
    "mass_all_cells = [cellmass_NMC811Gr, \n",
    "                  cellmass_NMC622Gr,\n",
    "                  cellmass_LFPGr,\n",
    "                  cellmass_NMC811LiM, \n",
    "                  cellmass_NMC622LiM,\n",
    "                  cellmass_LFPLiM\n",
    "                 ]\n",
    "df_all['Mass'] = mass_all_cells\n",
    "df_all['Wh/kg'] = df_all['Energy'] / (df_all['Mass']/1000)"
   ]
  },
  {
   "cell_type": "code",
   "execution_count": 12,
   "metadata": {},
   "outputs": [],
   "source": [
    "Al = Cellmodel.CurrentCollector_cathode(\"Al\", 14e-4 , 2.76)\n",
    "Cu = Cellmodel.CurrentCollector_anode(\"Cu\", 8e-4 , 8.96)\n",
    "\n",
    "### Materials - Liquid cells\n",
    "## Pouch\n",
    "i = 0\n",
    "for positive in positives_liq:\n",
    "    Elyte_mass = Cellmodel.getMass_electrolyte_liquid(LP40_standard, cells[i])\n",
    "    Li_Elyte_mass = Cellmodel.getMass_elements_pouch_elyte(LP40_standard, Separator_standard, cells[i])\n",
    "    Ni, Co, Mn, Li, Al = Cellmodel.getMass_elements_pouch_c(positives_liq[i], Al, cathodes[i], cells[i])\n",
    "    Gr, Cu, Binder_a = Cellmodel.getMass_elements_pouch_a(negative_Gr, Cu, cells[i])\n",
    "    pos_elec_materials[i,] = [Ni, Co, Mn, Li, Al]\n",
    "    neg_elec_materials[i,] = [Gr, Cu]\n",
    "    Elyte_Li_mass[i,] = [Li_Elyte_mass]\n",
    "    i = i+1\n",
    "    Al = Cellmodel.CurrentCollector_cathode(\"Al\", 14e-4 , 2.76)\n",
    "    Cu = Cellmodel.CurrentCollector_anode(\"Cu\", 8e-4 , 8.96)\n",
    "# Cathode materials\n",
    "df_pos_elec_materials = pd.DataFrame(data = pos_elec_materials, \n",
    "                                     index = [cells[0].name_pouch, cells[1].name_pouch, cells[2].name_pouch])\n",
    "df_pos_elec_materials.set_axis(['Ni', 'Co', 'Mn', 'Li', 'Al'], axis=1, inplace = True)\n",
    "# Anode materials\n",
    "df_neg_elec_materials = pd.DataFrame(data = neg_elec_materials, \n",
    "                                     index = [cells[0].name_pouch, cells[1].name_pouch, cells[2].name_pouch])\n",
    "df_neg_elec_materials.set_axis(['Gr', 'Cu'], axis=1, inplace = True)\n",
    "# Elyte materials\n",
    "df_Elyte_l_mass = pd.DataFrame(data = Elyte_Li_mass, \n",
    "                             index = [cells[0].name_pouch, cells[1].name_pouch, cells[2].name_pouch])\n",
    "df_Elyte_l_mass.set_axis(['Li_elyte_mass'], axis=1, inplace = True)"
   ]
  },
  {
   "cell_type": "code",
   "execution_count": 13,
   "metadata": {},
   "outputs": [],
   "source": [
    "### Materials - ASSB cells\n",
    "## Pouch\n",
    "i = 0\n",
    "for positive in positives_assb:\n",
    "    Elyte_mass = Cellmodel.getMass_electrolyte_solid(LLZO_elyte, positives_assb[i])\n",
    "    \n",
    "    Li_abs_elyte = Cellmodel.getMass_elements_elyte_solid(LLZO_elyte, positives_assb[i])\n",
    "    Li_abs_sep = Cellmodel.getMass_elements_pouch_separator_solid(LLZO_elyte, Separator_LLZO, cells_assb[i])\n",
    "    \n",
    "    Ni, Co, Mn, Li, Al = Cellmodel.getMass_elements_pouch_c(positives_assb[i], Al, cathodes[i], cells_assb[i])\n",
    "    \n",
    "    Li_anode = cells_assb[i].negative.thickness_el_a * cells_assb[i].jr_area * 0.534 # Li density in g cm-3\n",
    "    \n",
    "    pos_elec_materials_assb[i,] = [Ni, Co, Mn, Li, Al]\n",
    "    neg_elec_materials_assb[i,] = [Li_anode]\n",
    "    Elyte_Li_mass_assb[i,] = [Li_abs_elyte]\n",
    "    Sep_Li_mass_assb[i,] = [Li_abs_sep]\n",
    "    i = i+1\n",
    "    Al = Cellmodel.CurrentCollector_cathode(\"Al\", 14e-4 , 2.76)\n",
    "    Cu = Cellmodel.CurrentCollector_anode(\"Cu\", 8e-4 , 8.96)\n",
    "# Cathode materials\n",
    "df_pos_elec_materials_assb = pd.DataFrame(data = pos_elec_materials_assb, \n",
    "                                     index = [cells_assb[0].name_pouch, cells_assb[1].name_pouch, cells_assb[2].name_pouch])\n",
    "df_pos_elec_materials_assb.set_axis(['Ni', 'Co', 'Mn', 'Li', 'Al'], axis=1, inplace = True)\n",
    "# Anode materials\n",
    "df_neg_elec_materials_assb = pd.DataFrame(data = neg_elec_materials_assb, \n",
    "                                     index = [cells_assb[0].name_pouch, cells_assb[1].name_pouch, cells_assb[2].name_pouch])\n",
    "df_neg_elec_materials_assb.set_axis(['Li'], axis=1, inplace = True)\n",
    "# Elyte materials\n",
    "df_Elyte_l_mass_assb = pd.DataFrame(data = Elyte_Li_mass_assb, \n",
    "                                     index = [cells_assb[0].name_pouch, cells_assb[1].name_pouch, cells_assb[2].name_pouch])\n",
    "df_Elyte_l_mass_assb.set_axis(['Li_elyte_mass'], axis=1, inplace = True)\n",
    "# Separator materials\n",
    "df_Sep_ASSB_Li_mass_assb = pd.DataFrame(data = Sep_Li_mass_assb, \n",
    "                                     index = [cells_assb[0].name_pouch, cells_assb[1].name_pouch, cells_assb[2].name_pouch])\n",
    "df_Sep_ASSB_Li_mass_assb.set_axis(['Li_sep_mass'], axis=1, inplace = True)"
   ]
  },
  {
   "cell_type": "markdown",
   "metadata": {},
   "source": [
    "g / mol * mol / L * L = g\n",
    "\n",
    "Molare Masse * concentration * Elektrolytvolume = Mass Salz\n",
    "\n",
    "Masse Electrolyte [g] * Massenanteil Lisalz [%g]"
   ]
  },
  {
   "cell_type": "markdown",
   "metadata": {},
   "source": [
    "# Results"
   ]
  },
  {
   "cell_type": "markdown",
   "metadata": {},
   "source": [
    "Properties of different cells"
   ]
  },
  {
   "cell_type": "code",
   "execution_count": 14,
   "metadata": {},
   "outputs": [
    {
     "data": {
      "text/html": [
       "<div>\n",
       "<style scoped>\n",
       "    .dataframe tbody tr th:only-of-type {\n",
       "        vertical-align: middle;\n",
       "    }\n",
       "\n",
       "    .dataframe tbody tr th {\n",
       "        vertical-align: top;\n",
       "    }\n",
       "\n",
       "    .dataframe thead th {\n",
       "        text-align: right;\n",
       "    }\n",
       "</style>\n",
       "<table border=\"1\" class=\"dataframe\">\n",
       "  <thead>\n",
       "    <tr style=\"text-align: right;\">\n",
       "      <th></th>\n",
       "      <th>Name</th>\n",
       "      <th>Energy</th>\n",
       "      <th>Capacity</th>\n",
       "      <th>ThicknessCathode</th>\n",
       "      <th>ThicknessAnode</th>\n",
       "      <th>Mass</th>\n",
       "      <th>Wh/kg</th>\n",
       "    </tr>\n",
       "  </thead>\n",
       "  <tbody>\n",
       "    <tr>\n",
       "      <th>0</th>\n",
       "      <td>NMC811-Gr_P</td>\n",
       "      <td>237.81681</td>\n",
       "      <td>64.449</td>\n",
       "      <td>0.005239</td>\n",
       "      <td>0.006834</td>\n",
       "      <td>893.626024</td>\n",
       "      <td>266.125654</td>\n",
       "    </tr>\n",
       "    <tr>\n",
       "      <th>1</th>\n",
       "      <td>NMC622-Gr_P</td>\n",
       "      <td>223.40367</td>\n",
       "      <td>60.543</td>\n",
       "      <td>0.005302</td>\n",
       "      <td>0.006834</td>\n",
       "      <td>889.950606</td>\n",
       "      <td>251.029291</td>\n",
       "    </tr>\n",
       "    <tr>\n",
       "      <th>2</th>\n",
       "      <td>LFP-Gr_P</td>\n",
       "      <td>152.82225</td>\n",
       "      <td>48.825</td>\n",
       "      <td>0.006579</td>\n",
       "      <td>0.006834</td>\n",
       "      <td>832.192576</td>\n",
       "      <td>183.638084</td>\n",
       "    </tr>\n",
       "    <tr>\n",
       "      <th>3</th>\n",
       "      <td>NMC811-LiM_P</td>\n",
       "      <td>248.77314</td>\n",
       "      <td>64.449</td>\n",
       "      <td>0.005856</td>\n",
       "      <td>0.001967</td>\n",
       "      <td>794.711548</td>\n",
       "      <td>313.035768</td>\n",
       "    </tr>\n",
       "    <tr>\n",
       "      <th>4</th>\n",
       "      <td>NMC622-LiM_P</td>\n",
       "      <td>233.69598</td>\n",
       "      <td>60.543</td>\n",
       "      <td>0.005926</td>\n",
       "      <td>0.001967</td>\n",
       "      <td>799.751422</td>\n",
       "      <td>292.210772</td>\n",
       "    </tr>\n",
       "    <tr>\n",
       "      <th>5</th>\n",
       "      <td>LFP-LiM_P</td>\n",
       "      <td>161.12250</td>\n",
       "      <td>48.825</td>\n",
       "      <td>0.005407</td>\n",
       "      <td>0.001967</td>\n",
       "      <td>762.641412</td>\n",
       "      <td>211.269015</td>\n",
       "    </tr>\n",
       "  </tbody>\n",
       "</table>\n",
       "</div>"
      ],
      "text/plain": [
       "           Name     Energy  Capacity  ThicknessCathode  ThicknessAnode  \\\n",
       "0   NMC811-Gr_P  237.81681    64.449          0.005239        0.006834   \n",
       "1   NMC622-Gr_P  223.40367    60.543          0.005302        0.006834   \n",
       "2      LFP-Gr_P  152.82225    48.825          0.006579        0.006834   \n",
       "3  NMC811-LiM_P  248.77314    64.449          0.005856        0.001967   \n",
       "4  NMC622-LiM_P  233.69598    60.543          0.005926        0.001967   \n",
       "5     LFP-LiM_P  161.12250    48.825          0.005407        0.001967   \n",
       "\n",
       "         Mass       Wh/kg  \n",
       "0  893.626024  266.125654  \n",
       "1  889.950606  251.029291  \n",
       "2  832.192576  183.638084  \n",
       "3  794.711548  313.035768  \n",
       "4  799.751422  292.210772  \n",
       "5  762.641412  211.269015  "
      ]
     },
     "execution_count": 14,
     "metadata": {},
     "output_type": "execute_result"
    }
   ],
   "source": [
    "df_all"
   ]
  },
  {
   "cell_type": "markdown",
   "metadata": {},
   "source": [
    "## ASSB"
   ]
  },
  {
   "cell_type": "markdown",
   "metadata": {},
   "source": [
    "Li mass in ASSB Separator"
   ]
  },
  {
   "cell_type": "code",
   "execution_count": 15,
   "metadata": {},
   "outputs": [
    {
     "data": {
      "text/html": [
       "<div>\n",
       "<style scoped>\n",
       "    .dataframe tbody tr th:only-of-type {\n",
       "        vertical-align: middle;\n",
       "    }\n",
       "\n",
       "    .dataframe tbody tr th {\n",
       "        vertical-align: top;\n",
       "    }\n",
       "\n",
       "    .dataframe thead th {\n",
       "        text-align: right;\n",
       "    }\n",
       "</style>\n",
       "<table border=\"1\" class=\"dataframe\">\n",
       "  <thead>\n",
       "    <tr style=\"text-align: right;\">\n",
       "      <th></th>\n",
       "      <th>Li_sep_mass</th>\n",
       "    </tr>\n",
       "  </thead>\n",
       "  <tbody>\n",
       "    <tr>\n",
       "      <th>NMC811-LiM_P</th>\n",
       "      <td>13.030564</td>\n",
       "    </tr>\n",
       "    <tr>\n",
       "      <th>NMC622-LiM_P</th>\n",
       "      <td>13.030564</td>\n",
       "    </tr>\n",
       "    <tr>\n",
       "      <th>LFP-LiM_P</th>\n",
       "      <td>13.030564</td>\n",
       "    </tr>\n",
       "  </tbody>\n",
       "</table>\n",
       "</div>"
      ],
      "text/plain": [
       "              Li_sep_mass\n",
       "NMC811-LiM_P    13.030564\n",
       "NMC622-LiM_P    13.030564\n",
       "LFP-LiM_P       13.030564"
      ]
     },
     "execution_count": 15,
     "metadata": {},
     "output_type": "execute_result"
    }
   ],
   "source": [
    "df_Sep_ASSB_Li_mass_assb"
   ]
  },
  {
   "cell_type": "code",
   "execution_count": 16,
   "metadata": {},
   "outputs": [],
   "source": [
    "Sep_ASSB_Li_mass_assb_norm = np.zeros((len(cells_assb),1))\n",
    "\n",
    "for i in range(0,len(cells_assb)):\n",
    "    Sep_ASSB_Li_mass_assb_norm[i] = df_Sep_ASSB_Li_mass_assb.iloc[i] / cells_assb[i].energy\n",
    "df_Sep_ASSB_Li_mass_assb_norm = pd.DataFrame(data = Sep_ASSB_Li_mass_assb_norm, \n",
    "                                     index = [cells_assb[0].name_pouch, cells_assb[1].name_pouch, cells_assb[2].name_pouch])\n",
    "df_Sep_ASSB_Li_mass_assb_norm.set_axis(['Li_sep_mass_by_kWh'], axis=1, inplace = True)"
   ]
  },
  {
   "cell_type": "markdown",
   "metadata": {},
   "source": [
    "By kWh normalized Li mass in ASSB Separator"
   ]
  },
  {
   "cell_type": "code",
   "execution_count": 17,
   "metadata": {},
   "outputs": [
    {
     "data": {
      "text/html": [
       "<div>\n",
       "<style scoped>\n",
       "    .dataframe tbody tr th:only-of-type {\n",
       "        vertical-align: middle;\n",
       "    }\n",
       "\n",
       "    .dataframe tbody tr th {\n",
       "        vertical-align: top;\n",
       "    }\n",
       "\n",
       "    .dataframe thead th {\n",
       "        text-align: right;\n",
       "    }\n",
       "</style>\n",
       "<table border=\"1\" class=\"dataframe\">\n",
       "  <thead>\n",
       "    <tr style=\"text-align: right;\">\n",
       "      <th></th>\n",
       "      <th>Li_sep_mass_by_kWh</th>\n",
       "    </tr>\n",
       "  </thead>\n",
       "  <tbody>\n",
       "    <tr>\n",
       "      <th>NMC811-LiM_P</th>\n",
       "      <td>0.052379</td>\n",
       "    </tr>\n",
       "    <tr>\n",
       "      <th>NMC622-LiM_P</th>\n",
       "      <td>0.055759</td>\n",
       "    </tr>\n",
       "    <tr>\n",
       "      <th>LFP-LiM_P</th>\n",
       "      <td>0.080874</td>\n",
       "    </tr>\n",
       "  </tbody>\n",
       "</table>\n",
       "</div>"
      ],
      "text/plain": [
       "              Li_sep_mass_by_kWh\n",
       "NMC811-LiM_P            0.052379\n",
       "NMC622-LiM_P            0.055759\n",
       "LFP-LiM_P               0.080874"
      ]
     },
     "execution_count": 17,
     "metadata": {},
     "output_type": "execute_result"
    }
   ],
   "source": [
    "df_Sep_ASSB_Li_mass_assb_norm"
   ]
  },
  {
   "cell_type": "markdown",
   "metadata": {},
   "source": [
    "Li mass in ASSB electrolyte"
   ]
  },
  {
   "cell_type": "code",
   "execution_count": 18,
   "metadata": {},
   "outputs": [
    {
     "data": {
      "text/html": [
       "<div>\n",
       "<style scoped>\n",
       "    .dataframe tbody tr th:only-of-type {\n",
       "        vertical-align: middle;\n",
       "    }\n",
       "\n",
       "    .dataframe tbody tr th {\n",
       "        vertical-align: top;\n",
       "    }\n",
       "\n",
       "    .dataframe thead th {\n",
       "        text-align: right;\n",
       "    }\n",
       "</style>\n",
       "<table border=\"1\" class=\"dataframe\">\n",
       "  <thead>\n",
       "    <tr style=\"text-align: right;\">\n",
       "      <th></th>\n",
       "      <th>Li_elyte_mass</th>\n",
       "    </tr>\n",
       "  </thead>\n",
       "  <tbody>\n",
       "    <tr>\n",
       "      <th>NMC811-LiM_P</th>\n",
       "      <td>0.022493</td>\n",
       "    </tr>\n",
       "    <tr>\n",
       "      <th>NMC622-LiM_P</th>\n",
       "      <td>0.021130</td>\n",
       "    </tr>\n",
       "    <tr>\n",
       "      <th>LFP-LiM_P</th>\n",
       "      <td>0.017040</td>\n",
       "    </tr>\n",
       "  </tbody>\n",
       "</table>\n",
       "</div>"
      ],
      "text/plain": [
       "              Li_elyte_mass\n",
       "NMC811-LiM_P       0.022493\n",
       "NMC622-LiM_P       0.021130\n",
       "LFP-LiM_P          0.017040"
      ]
     },
     "execution_count": 18,
     "metadata": {},
     "output_type": "execute_result"
    }
   ],
   "source": [
    "df_Elyte_l_mass_assb"
   ]
  },
  {
   "cell_type": "markdown",
   "metadata": {},
   "source": [
    "Materials in ASSB cathode"
   ]
  },
  {
   "cell_type": "code",
   "execution_count": 19,
   "metadata": {},
   "outputs": [
    {
     "data": {
      "text/html": [
       "<div>\n",
       "<style scoped>\n",
       "    .dataframe tbody tr th:only-of-type {\n",
       "        vertical-align: middle;\n",
       "    }\n",
       "\n",
       "    .dataframe tbody tr th {\n",
       "        vertical-align: top;\n",
       "    }\n",
       "\n",
       "    .dataframe thead th {\n",
       "        text-align: right;\n",
       "    }\n",
       "</style>\n",
       "<table border=\"1\" class=\"dataframe\">\n",
       "  <thead>\n",
       "    <tr style=\"text-align: right;\">\n",
       "      <th></th>\n",
       "      <th>Ni</th>\n",
       "      <th>Co</th>\n",
       "      <th>Mn</th>\n",
       "      <th>Li</th>\n",
       "      <th>Al</th>\n",
       "    </tr>\n",
       "  </thead>\n",
       "  <tbody>\n",
       "    <tr>\n",
       "      <th>NMC811-LiM_P</th>\n",
       "      <td>180.619005</td>\n",
       "      <td>22.577376</td>\n",
       "      <td>22.577376</td>\n",
       "      <td>26.340271</td>\n",
       "      <td>0.0</td>\n",
       "    </tr>\n",
       "    <tr>\n",
       "      <th>NMC622-LiM_P</th>\n",
       "      <td>137.097173</td>\n",
       "      <td>45.699058</td>\n",
       "      <td>45.699058</td>\n",
       "      <td>26.657784</td>\n",
       "      <td>0.0</td>\n",
       "    </tr>\n",
       "    <tr>\n",
       "      <th>LFP-LiM_P</th>\n",
       "      <td>0.000000</td>\n",
       "      <td>0.000000</td>\n",
       "      <td>0.000000</td>\n",
       "      <td>13.897059</td>\n",
       "      <td>0.0</td>\n",
       "    </tr>\n",
       "  </tbody>\n",
       "</table>\n",
       "</div>"
      ],
      "text/plain": [
       "                      Ni         Co         Mn         Li   Al\n",
       "NMC811-LiM_P  180.619005  22.577376  22.577376  26.340271  0.0\n",
       "NMC622-LiM_P  137.097173  45.699058  45.699058  26.657784  0.0\n",
       "LFP-LiM_P       0.000000   0.000000   0.000000  13.897059  0.0"
      ]
     },
     "execution_count": 19,
     "metadata": {},
     "output_type": "execute_result"
    }
   ],
   "source": [
    "df_pos_elec_materials_assb"
   ]
  },
  {
   "cell_type": "markdown",
   "metadata": {},
   "source": [
    "Materials in ASSB anodes"
   ]
  },
  {
   "cell_type": "code",
   "execution_count": 20,
   "metadata": {},
   "outputs": [
    {
     "data": {
      "text/html": [
       "<div>\n",
       "<style scoped>\n",
       "    .dataframe tbody tr th:only-of-type {\n",
       "        vertical-align: middle;\n",
       "    }\n",
       "\n",
       "    .dataframe tbody tr th {\n",
       "        vertical-align: top;\n",
       "    }\n",
       "\n",
       "    .dataframe thead th {\n",
       "        text-align: right;\n",
       "    }\n",
       "</style>\n",
       "<table border=\"1\" class=\"dataframe\">\n",
       "  <thead>\n",
       "    <tr style=\"text-align: right;\">\n",
       "      <th></th>\n",
       "      <th>Li</th>\n",
       "    </tr>\n",
       "  </thead>\n",
       "  <tbody>\n",
       "    <tr>\n",
       "      <th>NMC811-LiM_P</th>\n",
       "      <td>11.028133</td>\n",
       "    </tr>\n",
       "    <tr>\n",
       "      <th>NMC622-LiM_P</th>\n",
       "      <td>11.028133</td>\n",
       "    </tr>\n",
       "    <tr>\n",
       "      <th>LFP-LiM_P</th>\n",
       "      <td>11.028133</td>\n",
       "    </tr>\n",
       "  </tbody>\n",
       "</table>\n",
       "</div>"
      ],
      "text/plain": [
       "                     Li\n",
       "NMC811-LiM_P  11.028133\n",
       "NMC622-LiM_P  11.028133\n",
       "LFP-LiM_P     11.028133"
      ]
     },
     "execution_count": 20,
     "metadata": {},
     "output_type": "execute_result"
    }
   ],
   "source": [
    "df_neg_elec_materials_assb"
   ]
  },
  {
   "cell_type": "markdown",
   "metadata": {},
   "source": [
    "Summing up all the Li for cells using ASSB tech"
   ]
  },
  {
   "cell_type": "code",
   "execution_count": 21,
   "metadata": {},
   "outputs": [
    {
     "data": {
      "text/html": [
       "<div>\n",
       "<style scoped>\n",
       "    .dataframe tbody tr th:only-of-type {\n",
       "        vertical-align: middle;\n",
       "    }\n",
       "\n",
       "    .dataframe tbody tr th {\n",
       "        vertical-align: top;\n",
       "    }\n",
       "\n",
       "    .dataframe thead th {\n",
       "        text-align: right;\n",
       "    }\n",
       "</style>\n",
       "<table border=\"1\" class=\"dataframe\">\n",
       "  <thead>\n",
       "    <tr style=\"text-align: right;\">\n",
       "      <th></th>\n",
       "      <th>Li_mass_total</th>\n",
       "      <th>Li_mass_by_Wh</th>\n",
       "    </tr>\n",
       "  </thead>\n",
       "  <tbody>\n",
       "    <tr>\n",
       "      <th>NMC811-LiM_P</th>\n",
       "      <td>50.421461</td>\n",
       "      <td>0.202680</td>\n",
       "    </tr>\n",
       "    <tr>\n",
       "      <th>NMC622-LiM_P</th>\n",
       "      <td>50.737610</td>\n",
       "      <td>0.217109</td>\n",
       "    </tr>\n",
       "    <tr>\n",
       "      <th>LFP-LiM_P</th>\n",
       "      <td>37.972796</td>\n",
       "      <td>0.235677</td>\n",
       "    </tr>\n",
       "  </tbody>\n",
       "</table>\n",
       "</div>"
      ],
      "text/plain": [
       "              Li_mass_total  Li_mass_by_Wh\n",
       "NMC811-LiM_P      50.421461       0.202680\n",
       "NMC622-LiM_P      50.737610       0.217109\n",
       "LFP-LiM_P         37.972796       0.235677"
      ]
     },
     "execution_count": 21,
     "metadata": {},
     "output_type": "execute_result"
    }
   ],
   "source": [
    "Li_total_cells = df_neg_elec_materials_assb['Li'] + \\\n",
    "                    df_pos_elec_materials_assb['Li'] + \\\n",
    "                    df_Elyte_l_mass_assb['Li_elyte_mass'] + \\\n",
    "                    df_Sep_ASSB_Li_mass_assb['Li_sep_mass']\n",
    "df_Li_total_cells = pd.DataFrame(data = Li_total_cells, \n",
    "                                     index = [cells_assb[0].name_pouch, cells_assb[1].name_pouch, cells_assb[2].name_pouch])\n",
    "df_Li_total_cells.set_axis(['Li_mass_total'], axis=1, inplace = True)\n",
    "Li_total_cells_by_Wh = np.zeros((3,1))\n",
    "for i in range(0,len(cells_assb)):\n",
    "    Li_total_cells_by_Wh[i] = df_Li_total_cells['Li_mass_total'].iloc[i] / cells_assb[i].energy\n",
    "df_Li_total_cells['Li_mass_by_Wh'] = Li_total_cells_by_Wh\n",
    "df_Li_total_cells"
   ]
  },
  {
   "cell_type": "markdown",
   "metadata": {},
   "source": [
    "## Cells using Liquid electrolytes"
   ]
  },
  {
   "cell_type": "markdown",
   "metadata": {},
   "source": [
    "No Li available in separator, hence zero content coming from there. "
   ]
  },
  {
   "cell_type": "markdown",
   "metadata": {},
   "source": [
    "Li mass in electrolyte"
   ]
  },
  {
   "cell_type": "code",
   "execution_count": 22,
   "metadata": {},
   "outputs": [
    {
     "data": {
      "text/html": [
       "<div>\n",
       "<style scoped>\n",
       "    .dataframe tbody tr th:only-of-type {\n",
       "        vertical-align: middle;\n",
       "    }\n",
       "\n",
       "    .dataframe tbody tr th {\n",
       "        vertical-align: top;\n",
       "    }\n",
       "\n",
       "    .dataframe thead th {\n",
       "        text-align: right;\n",
       "    }\n",
       "</style>\n",
       "<table border=\"1\" class=\"dataframe\">\n",
       "  <thead>\n",
       "    <tr style=\"text-align: right;\">\n",
       "      <th></th>\n",
       "      <th>Li_elyte_mass</th>\n",
       "    </tr>\n",
       "  </thead>\n",
       "  <tbody>\n",
       "    <tr>\n",
       "      <th>NMC811-Gr_P</th>\n",
       "      <td>0.836627</td>\n",
       "    </tr>\n",
       "    <tr>\n",
       "      <th>NMC622-Gr_P</th>\n",
       "      <td>0.785922</td>\n",
       "    </tr>\n",
       "    <tr>\n",
       "      <th>LFP-Gr_P</th>\n",
       "      <td>0.633808</td>\n",
       "    </tr>\n",
       "  </tbody>\n",
       "</table>\n",
       "</div>"
      ],
      "text/plain": [
       "             Li_elyte_mass\n",
       "NMC811-Gr_P       0.836627\n",
       "NMC622-Gr_P       0.785922\n",
       "LFP-Gr_P          0.633808"
      ]
     },
     "execution_count": 22,
     "metadata": {},
     "output_type": "execute_result"
    }
   ],
   "source": [
    "df_Elyte_l_mass"
   ]
  },
  {
   "cell_type": "markdown",
   "metadata": {},
   "source": [
    "Materials in liquid electrolyte cathodes"
   ]
  },
  {
   "cell_type": "code",
   "execution_count": 23,
   "metadata": {},
   "outputs": [
    {
     "data": {
      "text/html": [
       "<div>\n",
       "<style scoped>\n",
       "    .dataframe tbody tr th:only-of-type {\n",
       "        vertical-align: middle;\n",
       "    }\n",
       "\n",
       "    .dataframe tbody tr th {\n",
       "        vertical-align: top;\n",
       "    }\n",
       "\n",
       "    .dataframe thead th {\n",
       "        text-align: right;\n",
       "    }\n",
       "</style>\n",
       "<table border=\"1\" class=\"dataframe\">\n",
       "  <thead>\n",
       "    <tr style=\"text-align: right;\">\n",
       "      <th></th>\n",
       "      <th>Ni</th>\n",
       "      <th>Co</th>\n",
       "      <th>Mn</th>\n",
       "      <th>Li</th>\n",
       "      <th>Al</th>\n",
       "    </tr>\n",
       "  </thead>\n",
       "  <tbody>\n",
       "    <tr>\n",
       "      <th>NMC811-Gr_P</th>\n",
       "      <td>161.606478</td>\n",
       "      <td>20.20081</td>\n",
       "      <td>20.20081</td>\n",
       "      <td>23.567611</td>\n",
       "      <td>0.0</td>\n",
       "    </tr>\n",
       "    <tr>\n",
       "      <th>NMC622-Gr_P</th>\n",
       "      <td>122.665891</td>\n",
       "      <td>40.88863</td>\n",
       "      <td>40.88863</td>\n",
       "      <td>23.851701</td>\n",
       "      <td>0.0</td>\n",
       "    </tr>\n",
       "    <tr>\n",
       "      <th>LFP-Gr_P</th>\n",
       "      <td>0.000000</td>\n",
       "      <td>0.00000</td>\n",
       "      <td>0.00000</td>\n",
       "      <td>12.434211</td>\n",
       "      <td>0.0</td>\n",
       "    </tr>\n",
       "  </tbody>\n",
       "</table>\n",
       "</div>"
      ],
      "text/plain": [
       "                     Ni        Co        Mn         Li   Al\n",
       "NMC811-Gr_P  161.606478  20.20081  20.20081  23.567611  0.0\n",
       "NMC622-Gr_P  122.665891  40.88863  40.88863  23.851701  0.0\n",
       "LFP-Gr_P       0.000000   0.00000   0.00000  12.434211  0.0"
      ]
     },
     "execution_count": 23,
     "metadata": {},
     "output_type": "execute_result"
    }
   ],
   "source": [
    "df_pos_elec_materials"
   ]
  },
  {
   "cell_type": "markdown",
   "metadata": {},
   "source": [
    "Materials in liquid electrolyte anodes"
   ]
  },
  {
   "cell_type": "code",
   "execution_count": 24,
   "metadata": {},
   "outputs": [
    {
     "data": {
      "text/html": [
       "<div>\n",
       "<style scoped>\n",
       "    .dataframe tbody tr th:only-of-type {\n",
       "        vertical-align: middle;\n",
       "    }\n",
       "\n",
       "    .dataframe tbody tr th {\n",
       "        vertical-align: top;\n",
       "    }\n",
       "\n",
       "    .dataframe thead th {\n",
       "        text-align: right;\n",
       "    }\n",
       "</style>\n",
       "<table border=\"1\" class=\"dataframe\">\n",
       "  <thead>\n",
       "    <tr style=\"text-align: right;\">\n",
       "      <th></th>\n",
       "      <th>Gr</th>\n",
       "      <th>Cu</th>\n",
       "    </tr>\n",
       "  </thead>\n",
       "  <tbody>\n",
       "    <tr>\n",
       "      <th>NMC811-Gr_P</th>\n",
       "      <td>221.598837</td>\n",
       "      <td>75.264</td>\n",
       "    </tr>\n",
       "    <tr>\n",
       "      <th>NMC622-Gr_P</th>\n",
       "      <td>221.598837</td>\n",
       "      <td>75.264</td>\n",
       "    </tr>\n",
       "    <tr>\n",
       "      <th>LFP-Gr_P</th>\n",
       "      <td>221.598837</td>\n",
       "      <td>75.264</td>\n",
       "    </tr>\n",
       "  </tbody>\n",
       "</table>\n",
       "</div>"
      ],
      "text/plain": [
       "                     Gr      Cu\n",
       "NMC811-Gr_P  221.598837  75.264\n",
       "NMC622-Gr_P  221.598837  75.264\n",
       "LFP-Gr_P     221.598837  75.264"
      ]
     },
     "execution_count": 24,
     "metadata": {},
     "output_type": "execute_result"
    }
   ],
   "source": [
    "df_neg_elec_materials"
   ]
  },
  {
   "cell_type": "markdown",
   "metadata": {},
   "source": [
    "Summing up all the Li for cells using liquid electrolytes"
   ]
  },
  {
   "cell_type": "code",
   "execution_count": 25,
   "metadata": {},
   "outputs": [
    {
     "data": {
      "text/html": [
       "<div>\n",
       "<style scoped>\n",
       "    .dataframe tbody tr th:only-of-type {\n",
       "        vertical-align: middle;\n",
       "    }\n",
       "\n",
       "    .dataframe tbody tr th {\n",
       "        vertical-align: top;\n",
       "    }\n",
       "\n",
       "    .dataframe thead th {\n",
       "        text-align: right;\n",
       "    }\n",
       "</style>\n",
       "<table border=\"1\" class=\"dataframe\">\n",
       "  <thead>\n",
       "    <tr style=\"text-align: right;\">\n",
       "      <th></th>\n",
       "      <th>Li_mass_total</th>\n",
       "      <th>Li_mass_by_Wh</th>\n",
       "    </tr>\n",
       "  </thead>\n",
       "  <tbody>\n",
       "    <tr>\n",
       "      <th>NMC811-Gr_P</th>\n",
       "      <td>24.404238</td>\n",
       "      <td>0.102618</td>\n",
       "    </tr>\n",
       "    <tr>\n",
       "      <th>NMC622-Gr_P</th>\n",
       "      <td>24.637623</td>\n",
       "      <td>0.110283</td>\n",
       "    </tr>\n",
       "    <tr>\n",
       "      <th>LFP-Gr_P</th>\n",
       "      <td>13.068019</td>\n",
       "      <td>0.085511</td>\n",
       "    </tr>\n",
       "  </tbody>\n",
       "</table>\n",
       "</div>"
      ],
      "text/plain": [
       "             Li_mass_total  Li_mass_by_Wh\n",
       "NMC811-Gr_P      24.404238       0.102618\n",
       "NMC622-Gr_P      24.637623       0.110283\n",
       "LFP-Gr_P         13.068019       0.085511"
      ]
     },
     "execution_count": 25,
     "metadata": {},
     "output_type": "execute_result"
    }
   ],
   "source": [
    "Li_total_cells_l = df_pos_elec_materials['Li'] + df_Elyte_l_mass['Li_elyte_mass']\n",
    "df_Li_total_cells_l = pd.DataFrame(data = Li_total_cells_l, \n",
    "                                     index = [cells[0].name_pouch, cells[1].name_pouch, cells[2].name_pouch])\n",
    "df_Li_total_cells_l.set_axis(['Li_mass_total'], axis=1, inplace = True)\n",
    "Li_total_cells_by_Wh_l = np.zeros((3,1))\n",
    "for i in range(0,3):\n",
    "    Li_total_cells_by_Wh_l[i] = df_Li_total_cells_l['Li_mass_total'].iloc[i] / cells[i].energy\n",
    "df_Li_total_cells_l['Li_mass_by_Wh'] = Li_total_cells_by_Wh_l\n",
    "df_Li_total_cells_l"
   ]
  },
  {
   "cell_type": "markdown",
   "metadata": {},
   "source": [
    "# Demand to Li mass"
   ]
  },
  {
   "cell_type": "markdown",
   "metadata": {},
   "source": [
    "Bloomberg projects a demand only for EVs with up to 2000 GWh by 2030. Since ASSB will likely be used primarily (at the beginning?) in the mobility space, let's go with that. Stationary storage is shown in the graph as well, but that is neglectable. \n",
    "\n",
    "https://news.bloomberglaw.com/environment-and-energy/electric-vehicles-to-drive-massive-battery-demand-bnef-chart"
   ]
  },
  {
   "cell_type": "markdown",
   "metadata": {},
   "source": [
    "<img src=\"li_demand_forecast.jpeg\" /> "
   ]
  },
  {
   "cell_type": "code",
   "execution_count": 26,
   "metadata": {},
   "outputs": [
    {
     "data": {
      "text/plain": [
       "[0.20268048657254736,\n",
       " 0.235676553660515,\n",
       " 0.10261780115188363,\n",
       " 0.08551123082763333]"
      ]
     },
     "execution_count": 26,
     "metadata": {},
     "output_type": "execute_result"
    }
   ],
   "source": [
    "Li_mass_Wh = [df_Li_total_cells['Li_mass_by_Wh'][0], # NMC811-LiM\n",
    "              df_Li_total_cells['Li_mass_by_Wh'][2], # LFP-LiM\n",
    "              df_Li_total_cells_l['Li_mass_by_Wh'][0], # NMC811-Gr\n",
    "              df_Li_total_cells_l['Li_mass_by_Wh'][2], # LFP-Gr\n",
    "             ]\n",
    "Li_mass_Wh"
   ]
  },
  {
   "cell_type": "markdown",
   "metadata": {},
   "source": [
    "Let's assume that about 25% of passenger EVs will use ASSB by 2030 (25% * ~1250 GWh). And of that 25%, NMC811 and LFP will have a 50/50 share, just as well to keep assumptions simple and because who knows how LFP and NMC811 will develop (we will likely have NMC90505 or some other fancy number combination with more Ni by then). \n",
    "The remaining share will be covered by conventional, liquid-based electrolytes with as well a 50/50 share of NMC811 and LFP. "
   ]
  },
  {
   "cell_type": "code",
   "execution_count": 27,
   "metadata": {},
   "outputs": [
    {
     "data": {
      "text/html": [
       "<div>\n",
       "<style scoped>\n",
       "    .dataframe tbody tr th:only-of-type {\n",
       "        vertical-align: middle;\n",
       "    }\n",
       "\n",
       "    .dataframe tbody tr th {\n",
       "        vertical-align: top;\n",
       "    }\n",
       "\n",
       "    .dataframe thead th {\n",
       "        text-align: right;\n",
       "    }\n",
       "</style>\n",
       "<table border=\"1\" class=\"dataframe\">\n",
       "  <thead>\n",
       "    <tr style=\"text-align: right;\">\n",
       "      <th></th>\n",
       "      <th>GWh/y</th>\n",
       "    </tr>\n",
       "  </thead>\n",
       "  <tbody>\n",
       "    <tr>\n",
       "      <th>Demand_ASSB_NMC811</th>\n",
       "      <td>156.25</td>\n",
       "    </tr>\n",
       "    <tr>\n",
       "      <th>Demand_ASSB_LFP</th>\n",
       "      <td>156.25</td>\n",
       "    </tr>\n",
       "    <tr>\n",
       "      <th>Demand_l_NMC811</th>\n",
       "      <td>866.25</td>\n",
       "    </tr>\n",
       "    <tr>\n",
       "      <th>Demand_l_LFP</th>\n",
       "      <td>866.25</td>\n",
       "    </tr>\n",
       "  </tbody>\n",
       "</table>\n",
       "</div>"
      ],
      "text/plain": [
       "                     GWh/y\n",
       "Demand_ASSB_NMC811  156.25\n",
       "Demand_ASSB_LFP     156.25\n",
       "Demand_l_NMC811     866.25\n",
       "Demand_l_LFP        866.25"
      ]
     },
     "execution_count": 27,
     "metadata": {},
     "output_type": "execute_result"
    }
   ],
   "source": [
    "demand_assb = 0.25*1250\n",
    "demand_assb_NMC811 = 0.5*0.25*1250\n",
    "demand_assb_LFP = demand_assb_NMC811\n",
    "demand_l = 2045 - demand_assb\n",
    "demand_l_NMC811 = demand_l*0.5\n",
    "demand_l_LFP = demand_l_NMC811\n",
    "demand =[demand_assb_NMC811, demand_assb_LFP, demand_l_NMC811, demand_l_LFP]\n",
    "df_demand = pd.DataFrame(data = demand, index = ['Demand_ASSB_NMC811', 'Demand_ASSB_LFP', 'Demand_l_NMC811', 'Demand_l_LFP'])\n",
    "df_demand.set_axis(['GWh/y'], axis=1, inplace = True)\n",
    "df_demand"
   ]
  },
  {
   "cell_type": "code",
   "execution_count": 28,
   "metadata": {},
   "outputs": [],
   "source": [
    "del demand"
   ]
  },
  {
   "cell_type": "code",
   "execution_count": 29,
   "metadata": {},
   "outputs": [
    {
     "data": {
      "image/png": "[encoded data removed]",
      "text/plain": [
       "<Figure size 640x480 with 1 Axes>"
      ]
     },
     "metadata": {},
     "output_type": "display_data"
    }
   ],
   "source": [
    "idx = 0\n",
    "sc = 0\n",
    "share_nmc_vs_lfp = 0.5\n",
    "#demand = []\n",
    "scenarios = ['s1-0%ASSB', 's2-5%ASSB', 's3-10%ASSB', 's4-15%ASSB', 's5-20%ASSB', 's6-25%ASSB']\n",
    "for idx in range(0,30,5):\n",
    "    demand_assb = idx/100*1250\n",
    "    demand_assb_NMC811 = share_nmc_vs_lfp*idx/100*1250\n",
    "    demand_assb_LFP = demand_assb_NMC811\n",
    "    demand_l = 2045 - demand_assb\n",
    "    demand_l_NMC811 = demand_l*share_nmc_vs_lfp\n",
    "    demand_l_LFP = demand_l_NMC811\n",
    "    demand_scenario =[demand_assb_NMC811, demand_assb_LFP, demand_l_NMC811, demand_l_LFP]\n",
    "    #demand = [demand, demand_scenario]\n",
    "    #df_demand_single = pd.DataFrame(data = demand)\n",
    "    # df_demand.set_axis(['GWh/y'], axis=1, inplace = True)\n",
    "    if idx == 0: \n",
    "        demand = [demand_scenario]\n",
    "    \n",
    "    #    name = scenarios[sc]\n",
    "    #    df_demand[name] = df_demand_single\n",
    "    else:\n",
    "        demand = np.vstack([demand, demand_scenario])\n",
    "    #    name = scenarios[sc]\n",
    "    #    df_demand[name] = df_demand_single\n",
    "    sc = sc +1\n",
    "\n",
    "df_demand = pd.DataFrame(data = demand, index = scenarios)\n",
    "df_demand.columns = ['Demand_ASSB_NMC811', 'Demand_ASSB_LFP', 'Demand_l_NMC811', 'Demand_l_LFP']\n",
    "df_demand = df_demand.T\n",
    "ax = df_demand.plot.bar(rot=0)"
   ]
  },
  {
   "cell_type": "code",
   "execution_count": 30,
   "metadata": {},
   "outputs": [],
   "source": [
    "#df_demand['Li_mass_in_kg/GWh'] = Li_mass_Wh # still need to multiply by 1e9 and divide by 1e3 to get kg/GWh\n",
    "#df_demand['Li_mass_in_kg/GWh'] = df_demand['Li_mass_in_kg/GWh']*1e9/1e3\n",
    "#df_demand'"
   ]
  },
  {
   "cell_type": "code",
   "execution_count": 61,
   "metadata": {},
   "outputs": [
    {
     "data": {
      "text/html": [
       "<div>\n",
       "<style scoped>\n",
       "    .dataframe tbody tr th:only-of-type {\n",
       "        vertical-align: middle;\n",
       "    }\n",
       "\n",
       "    .dataframe tbody tr th {\n",
       "        vertical-align: top;\n",
       "    }\n",
       "\n",
       "    .dataframe thead th {\n",
       "        text-align: right;\n",
       "    }\n",
       "</style>\n",
       "<table border=\"1\" class=\"dataframe\">\n",
       "  <thead>\n",
       "    <tr style=\"text-align: right;\">\n",
       "      <th></th>\n",
       "      <th>s1-0%ASSB</th>\n",
       "      <th>s2-5%ASSB</th>\n",
       "      <th>s3-10%ASSB</th>\n",
       "      <th>s4-15%ASSB</th>\n",
       "      <th>s5-20%ASSB</th>\n",
       "      <th>s6-25%ASSB</th>\n",
       "    </tr>\n",
       "  </thead>\n",
       "  <tbody>\n",
       "    <tr>\n",
       "      <th>Demand_ASSB_NMC811</th>\n",
       "      <td>0.0</td>\n",
       "      <td>31.25</td>\n",
       "      <td>62.5</td>\n",
       "      <td>93.75</td>\n",
       "      <td>125.0</td>\n",
       "      <td>156.25</td>\n",
       "    </tr>\n",
       "    <tr>\n",
       "      <th>Demand_ASSB_LFP</th>\n",
       "      <td>0.0</td>\n",
       "      <td>31.25</td>\n",
       "      <td>62.5</td>\n",
       "      <td>93.75</td>\n",
       "      <td>125.0</td>\n",
       "      <td>156.25</td>\n",
       "    </tr>\n",
       "    <tr>\n",
       "      <th>Demand_l_NMC811</th>\n",
       "      <td>1022.5</td>\n",
       "      <td>991.25</td>\n",
       "      <td>960.0</td>\n",
       "      <td>928.75</td>\n",
       "      <td>897.5</td>\n",
       "      <td>866.25</td>\n",
       "    </tr>\n",
       "    <tr>\n",
       "      <th>Demand_l_LFP</th>\n",
       "      <td>1022.5</td>\n",
       "      <td>991.25</td>\n",
       "      <td>960.0</td>\n",
       "      <td>928.75</td>\n",
       "      <td>897.5</td>\n",
       "      <td>866.25</td>\n",
       "    </tr>\n",
       "  </tbody>\n",
       "</table>\n",
       "</div>"
      ],
      "text/plain": [
       "                    s1-0%ASSB  s2-5%ASSB  s3-10%ASSB  s4-15%ASSB  s5-20%ASSB  \\\n",
       "Demand_ASSB_NMC811        0.0      31.25        62.5       93.75       125.0   \n",
       "Demand_ASSB_LFP           0.0      31.25        62.5       93.75       125.0   \n",
       "Demand_l_NMC811        1022.5     991.25       960.0      928.75       897.5   \n",
       "Demand_l_LFP           1022.5     991.25       960.0      928.75       897.5   \n",
       "\n",
       "                    s6-25%ASSB  \n",
       "Demand_ASSB_NMC811      156.25  \n",
       "Demand_ASSB_LFP         156.25  \n",
       "Demand_l_NMC811         866.25  \n",
       "Demand_l_LFP            866.25  "
      ]
     },
     "execution_count": 61,
     "metadata": {},
     "output_type": "execute_result"
    }
   ],
   "source": [
    "df_demand"
   ]
  },
  {
   "cell_type": "code",
   "execution_count": 60,
   "metadata": {},
   "outputs": [
    {
     "data": {
      "text/plain": [
       "Demand_ASSB_NMC811       0.0\n",
       "Demand_ASSB_LFP          0.0\n",
       "Demand_l_NMC811       1022.5\n",
       "Demand_l_LFP          1022.5\n",
       "Name: s1-0%ASSB, dtype: float64"
      ]
     },
     "execution_count": 60,
     "metadata": {},
     "output_type": "execute_result"
    }
   ],
   "source": [
    "df_demand.iloc[:,0]"
   ]
  },
  {
   "cell_type": "code",
   "execution_count": 50,
   "metadata": {},
   "outputs": [
    {
     "data": {
      "text/html": [
       "<div>\n",
       "<style scoped>\n",
       "    .dataframe tbody tr th:only-of-type {\n",
       "        vertical-align: middle;\n",
       "    }\n",
       "\n",
       "    .dataframe tbody tr th {\n",
       "        vertical-align: top;\n",
       "    }\n",
       "\n",
       "    .dataframe thead th {\n",
       "        text-align: right;\n",
       "    }\n",
       "</style>\n",
       "<table border=\"1\" class=\"dataframe\">\n",
       "  <thead>\n",
       "    <tr style=\"text-align: right;\">\n",
       "      <th></th>\n",
       "      <th>Li_mass_kg/GWh</th>\n",
       "    </tr>\n",
       "  </thead>\n",
       "  <tbody>\n",
       "    <tr>\n",
       "      <th>Li_mass_ASSB_NMC811</th>\n",
       "      <td>202680.486573</td>\n",
       "    </tr>\n",
       "    <tr>\n",
       "      <th>Li_mass_ASSB_LFP</th>\n",
       "      <td>235676.553661</td>\n",
       "    </tr>\n",
       "    <tr>\n",
       "      <th>Li_mass_l_NMC811</th>\n",
       "      <td>102617.801152</td>\n",
       "    </tr>\n",
       "    <tr>\n",
       "      <th>Li_mass_l_LFP</th>\n",
       "      <td>85511.230828</td>\n",
       "    </tr>\n",
       "  </tbody>\n",
       "</table>\n",
       "</div>"
      ],
      "text/plain": [
       "                     Li_mass_kg/GWh\n",
       "Li_mass_ASSB_NMC811   202680.486573\n",
       "Li_mass_ASSB_LFP      235676.553661\n",
       "Li_mass_l_NMC811      102617.801152\n",
       "Li_mass_l_LFP          85511.230828"
      ]
     },
     "execution_count": 50,
     "metadata": {},
     "output_type": "execute_result"
    }
   ],
   "source": [
    "Li_mass_kg_GWh = [value  *1e9/1e3 for value in Li_mass_Wh]\n",
    "df_Li_mass_kg_GWh = pd.DataFrame(data = Li_mass_kg_GWh, index = ['Li_mass_ASSB_NMC811', 'Li_mass_ASSB_LFP', 'Li_mass_l_NMC811', 'Li_mass_l_LFP'])\n",
    "df_Li_mass_kg_GWh.columns = ['Li_mass_kg/GWh']\n",
    "df_Li_mass_kg_GWh"
   ]
  },
  {
   "cell_type": "code",
   "execution_count": 67,
   "metadata": {},
   "outputs": [],
   "source": [
    "# Li_mass_kg_GWh = [value  *1e9/1e3 for value in Li_mass_Wh]\n",
    "\n",
    "for idx in range(0,len(df_demand.columns.values)):\n",
    "    Li_demand_in_t_scenario = df_demand.iloc[:,idx]*df_Li_mass_kg_GWh['Li_mass_kg/GWh']\n",
    "    if idx == 0:\n",
    "        Li_demand_in_t = Li_demand_in_t_scenario\n",
    "    else:\n",
    "        Li_demand_in_t = np.vstack([Li_demand_in_t, Li_demand_in_t_scenario])"
   ]
  },
  {
   "cell_type": "code",
   "execution_count": 71,
   "metadata": {},
   "outputs": [
    {
     "data": {
      "text/plain": [
       "Demand_ASSB_LFP       NaN\n",
       "Demand_ASSB_NMC811    NaN\n",
       "Demand_l_LFP          NaN\n",
       "Demand_l_NMC811       NaN\n",
       "Li_mass_ASSB_LFP      NaN\n",
       "Li_mass_ASSB_NMC811   NaN\n",
       "Li_mass_l_LFP         NaN\n",
       "Li_mass_l_NMC811      NaN\n",
       "dtype: float64"
      ]
     },
     "execution_count": 71,
     "metadata": {},
     "output_type": "execute_result"
    }
   ],
   "source": [
    "df_demand.iloc[:,0]*df_Li_mass_kg_GWh.iloc[:,0]"
   ]
  },
  {
   "cell_type": "code",
   "execution_count": null,
   "metadata": {},
   "outputs": [],
   "source": [
    "df_demand['Li_demand_in_t'] = df_demand['GWh/y'] * df_demand['Li_mass_in_kg/GWh'] / 1e3 # define by 1000 to get tons\n",
    "df_demand"
   ]
  },
  {
   "cell_type": "markdown",
   "metadata": {},
   "source": [
    "How does that look in total: "
   ]
  },
  {
   "cell_type": "code",
   "execution_count": null,
   "metadata": {},
   "outputs": [],
   "source": [
    "df_demand.sum()"
   ]
  },
  {
   "cell_type": "markdown",
   "metadata": {},
   "source": [
    "Based on BP Statistical Review, we produced 106.000 t of Lithium (what ever that exactly means) in 2021. \n",
    "https://www.bp.com/content/dam/bp/business-sites/en/global/corporate/pdfs/energy-economics/statistical-review/bp-stats-review-2022-full-report.pdf\n"
   ]
  }
 ],
 "metadata": {
  "kernelspec": {
   "display_name": "Python 3 (ipykernel)",
   "language": "python",
   "name": "python3"
  },
  "language_info": {
   "codemirror_mode": {
    "name": "ipython",
    "version": 3
   },
   "file_extension": ".py",
   "mimetype": "text/x-python",
   "name": "python",
   "nbconvert_exporter": "python",
   "pygments_lexer": "ipython3",
   "version": "3.9.13"
  }
 },
 "nbformat": 4,
 "nbformat_minor": 4
}
