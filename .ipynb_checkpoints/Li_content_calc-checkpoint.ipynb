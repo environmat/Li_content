{
 "cells": [
  {
   "cell_type": "markdown",
   "metadata": {},
   "source": [
    "## Steps \n",
    "- Import cost & energy library \n",
    "- calculate energy and Li content for standard cells (NMC622, NMC811, LFP, SSB) \n",
    "- take assumption for 2030 distribution\n",
    "- calculate extrem in case only one chemistry exists "
   ]
  },
  {
   "cell_type": "code",
   "execution_count": 1,
   "metadata": {},
   "outputs": [],
   "source": [
    "import math\n",
    "import sys\n",
    "sys.path.insert(0, '/home/matthias/Documents/GitHub/Cell_model_energy_costs')\n",
    "import cell_model_v004 as Cellmodel\n",
    "import numpy as np"
   ]
  },
  {
   "cell_type": "markdown",
   "metadata": {},
   "source": [
    "## Define materials "
   ]
  },
  {
   "cell_type": "code",
   "execution_count": 2,
   "metadata": {},
   "outputs": [],
   "source": [
    "# Active materials\n",
    "NMC811_cathode = Cellmodel.Activematerial_cathode(\"NMC811\" , 195, 3.86)\n",
    "NMC622_cathode = Cellmodel.Activematerial_cathode(\"NMC622\" , 181, 3.86)\n",
    "LFP_cathode = Cellmodel.Activematerial_cathode(\"LFP\", 160, 3.3)\n",
    "Gr = Cellmodel.Activematerial_anode(\"Gr\", 344 , 0.17)\n",
    "LiM = Cellmodel.Activematerial_anode(\"LiMetall\", 3862, 0.0)"
   ]
  },
  {
   "cell_type": "code",
   "execution_count": 3,
   "metadata": {},
   "outputs": [],
   "source": [
    "# Others\n",
    "# Currentcollectors \n",
    "Al = Cellmodel.CurrentCollector_cathode(\"Al\", 14e-4 , 2.76)\n",
    "Cu = Cellmodel.CurrentCollector_anode(\"Cu\", 8e-4 , 8.96)\n",
    "\n",
    "\n",
    "# Electrolyte \n",
    "LP40_standard = Cellmodel.Electrolyte(\"LiPF6\" , \"EC:DMC\", 1.1)\n",
    "\n",
    "# Separator\n",
    "Separator_standard = Cellmodel.Separator(\"PP+Al\" , 12e-4 , 0.44 , 1.18)\n",
    "\n",
    "# Electrods \n",
    "positive_NMC811 = Cellmodel.Electrodecomposition_cathode_opt1( NMC811_cathode.name , 3.3 , 0.95 , 3.4, NMC811_cathode) # NMC = 3.4 / LFP = 2.5\n",
    "positive_NMC622 = Cellmodel.Electrodecomposition_cathode_opt1( NMC622_cathode.name , 3.3 , 0.95 , 3.4, NMC622_cathode) # NMC = 3.4 / LFP = 2.5\n",
    "positive_LFP = Cellmodel.Electrodecomposition_cathode_opt1( LFP_cathode.name , 3.3 , 0.95 , 2.5, LFP_cathode) # NMC = 3.4 / LFP = 2.5\n",
    "negative_Gr = Cellmodel.Electrodecomposition_anode_opt1( Gr.name , 3.3*1.1 , 0.965 , 1.6, Gr)\n",
    "negative_LiM = Cellmodel.Electrodecomposition_anode_opt1( LiM.name , 10.32 , 1.00 , 0.543, LiM) # 50µm == 10.32 mAh/cm2\n",
    "\n",
    "### Total cells\n",
    "# Graphite Anode\n",
    "NMC811Gr_cell = Cellmodel.Cylindrical(\"NMC811-Gr_Cyl\", positive_NMC811, negative_Gr, Separator_standard , LP40_standard, \n",
    "                               1.7, 2.1, 7.0, 0.0165, 7.9, 0.25, 0.6, 4, 0.94, NMC811_cathode, Gr, Al , Cu)\n",
    "NMC622Gr_cell = Cellmodel.Cylindrical(\"NMC622-Gr_Cyl\", positive_NMC622, negative_Gr, Separator_standard , LP40_standard, \n",
    "                               1.7, 2.1, 7.0, 0.0165, 7.9, 0.25, 0.6, 4, 0.94, NMC622_cathode, Gr, Al , Cu)\n",
    "LFPGr_cell = Cellmodel.Cylindrical(\"LFP-Gr_Cyl\", positive_LFP, negative_Gr, Separator_standard , LP40_standard, \n",
    "                              1.7, 2.1, 7.0, 0.0165, 7.9, 0.25, 0.6, 4, 0.94, LFP_cathode, Gr, Al , Cu)\n",
    "# Li metall Anode\n",
    "NMC811LiM_cell = Cellmodel.Cylindrical(\"NMC811-Gr_Cyl\", positive_NMC811, negative_LiM, Separator_standard , LP40_standard, \n",
    "                               1.7, 2.1, 7.0, 0.0165, 7.9, 0.25, 0.6, 4, 0.94, NMC811_cathode, LiM, Al , Cu)\n",
    "NMC622LiM_cell = Cellmodel.Cylindrical(\"NMC622-Gr_Cyl\", positive_NMC622, negative_LiM, Separator_standard , LP40_standard, \n",
    "                               1.7, 2.1, 7.0, 0.0165, 7.9, 0.25, 0.6, 4, 0.94, NMC622_cathode, LiM, Al , Cu)\n",
    "LFPLiM_cell = Cellmodel.Cylindrical(\"LFP-Gr_Cyl\", positive_LFP, negative_LiM, Separator_standard , LP40_standard, \n",
    "                              1.7, 2.1, 7.0, 0.0165, 7.9, 0.25, 0.6, 4, 0.94, LFP_cathode, LiM, Al , Cu)"
   ]
  },
  {
   "cell_type": "markdown",
   "metadata": {},
   "source": [
    "## Get the Masses"
   ]
  },
  {
   "cell_type": "code",
   "execution_count": 4,
   "metadata": {},
   "outputs": [],
   "source": [
    "positives = [positive_NMC811, positive_NMC622, positive_LFP]\n",
    "negatives = [negative_Gr, negative_LiM]\n",
    "\n",
    "cathodes = [NMC811_cathode, NMC622_cathode, LFP_cathode]\n",
    "\n",
    "cells = [NMC811Gr_cell, NMC622Gr_cell, LFPGr_cell]"
   ]
  },
  {
   "cell_type": "code",
   "execution_count": 11,
   "metadata": {},
   "outputs": [],
   "source": [
    "## Masses\n",
    "cellmass_NMC811Gr, Housing_mass_NMC811Gr = Cellmodel.getMass_cylindrical_total(positive_NMC811, negative_Gr, Al, Cu, Separator_standard, NMC811Gr_cell, LP40_standard)\n",
    "cellmass_NMC622Gr, Housing_mass_NMC622Gr = Cellmodel.getMass_cylindrical_total(positive_NMC622, negative_Gr, Al, Cu, Separator_standard, NMC622Gr_cell, LP40_standard)\n",
    "cellmass_LFPGr, Housing_mass_LFPGr = Cellmodel.getMass_cylindrical_total(positive_LFP, negative_Gr, Al, Cu, Separator_standard, LFPGr_cell, LP40_standard)\n",
    "\n",
    "## Cathode Masses\n",
    "# Cylindrical\n",
    "cathode_mass_NMC811 = Cellmodel.getMass_cathode(positive_NMC811) * NMC811Gr_cell.jr_area * 2\n",
    "cathode_mass_NMC622 = Cellmodel.getMass_cathode(positive_NMC622) * NMC622Gr_cell.jr_area * 2\n",
    "cathode_mass_LFP = Cellmodel.getMass_cathode(positive_LFP) * LFPGr_cell.jr_area * 2\n",
    "\n",
    "## Seperator and Elyte\n",
    "Separator_mass = Cellmodel.getMass_separator(Separator_standard)\n",
    "\n",
    "pos_elec_materials = np.zeros((3,5))\n",
    "neg_elec_materials = np.zeros((3,2))\n",
    "\n"
   ]
  },
  {
   "cell_type": "code",
   "execution_count": 13,
   "metadata": {},
   "outputs": [],
   "source": [
    "Al = Cellmodel.CurrentCollector_cathode(\"Al\", 14e-4 , 2.76)\n",
    "Cu = Cellmodel.CurrentCollector_anode(\"Cu\", 8e-4 , 8.96)\n",
    "\n",
    "### Materials\n",
    "## Cylindrical\n",
    "i = 0\n",
    "for positive in positives:\n",
    "    Elyte_mass = Cellmodel.getMass_electrolyte(LP40_standard, cells[i])\n",
    "    Ni, Co, Mn, Li, Al = Cellmodel.getMass_elements_cyl_c(positives[i], Al, cathodes[i], cells[i])\n",
    "    Gr, Cu, Binder_a = Cellmodel.getMass_elements_cyl_a(negative_Gr, Cu, cells[i])\n",
    "    pos_elec_materials[i,] = [Ni, Co, Mn, Li, Al]\n",
    "    neg_elec_materials[i,] = [Gr, Cu]\n",
    "    i = i+1\n",
    "    Al = Cellmodel.CurrentCollector_cathode(\"Al\", 14e-4 , 2.76)\n",
    "    Cu = Cellmodel.CurrentCollector_anode(\"Cu\", 8e-4 , 8.96)\n",
    "    "
   ]
  },
  {
   "cell_type": "code",
   "execution_count": 14,
   "metadata": {},
   "outputs": [
    {
     "data": {
      "text/plain": [
       "array([[10.64429675,  1.33053709,  1.33053709,  1.55229328,  0.        ],\n",
       "       [ 8.35118991,  2.78372997,  2.78372997,  1.62384248,  0.        ],\n",
       "       [ 0.        ,  0.        ,  0.        ,  0.85997496,  0.        ]])"
      ]
     },
     "execution_count": 14,
     "metadata": {},
     "output_type": "execute_result"
    }
   ],
   "source": [
    "pos_elec_materials"
   ]
  },
  {
   "cell_type": "code",
   "execution_count": 10,
   "metadata": {},
   "outputs": [
    {
     "data": {
      "text/plain": [
       "'NMC811-Gr_Cyl'"
      ]
     },
     "execution_count": 10,
     "metadata": {},
     "output_type": "execute_result"
    }
   ],
   "source": [
    "cells[0].name_cylindrical"
   ]
  }
 ],
 "metadata": {
  "kernelspec": {
   "display_name": "Python 3",
   "language": "python",
   "name": "python3"
  },
  "language_info": {
   "codemirror_mode": {
    "name": "ipython",
    "version": 3
   },
   "file_extension": ".py",
   "mimetype": "text/x-python",
   "name": "python",
   "nbconvert_exporter": "python",
   "pygments_lexer": "ipython3",
   "version": "3.7.3"
  }
 },
 "nbformat": 4,
 "nbformat_minor": 2
}
